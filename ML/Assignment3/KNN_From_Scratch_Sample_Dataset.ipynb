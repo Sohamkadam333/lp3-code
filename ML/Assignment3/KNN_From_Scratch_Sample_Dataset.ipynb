{
 "cells": [
  {
   "cell_type": "markdown",
   "metadata": {},
   "source": [
    "## KNN from scratch"
   ]
  },
  {
   "cell_type": "code",
   "execution_count": 1,
   "metadata": {},
   "outputs": [],
   "source": [
    "import math"
   ]
  },
  {
   "cell_type": "code",
   "execution_count": 2,
   "metadata": {},
   "outputs": [],
   "source": [
    "def euclidean_distance(row1, row2):\n",
    "    distance = 0.0\n",
    "    for i in range(len(row1)-1):\n",
    "        distance += (row1[i] - row2[i])**2\n",
    "    return sqrt(distance)"
   ]
  },
  {
   "cell_type": "code",
   "execution_count": 3,
   "metadata": {},
   "outputs": [],
   "source": [
    "def get_neighbors(train, test_row, num_neighbors):\n",
    "    distances = list()\n",
    "    for train_row in train:\n",
    "        dist = euclidean_distance(train_row, test_row)\n",
    "        distances.append((train_row, dist))\n",
    "    distances.sort(key=lambda tup: tup[1])\n",
    "    neighbors = list()\n",
    "    for i in range(num_neighbors):\n",
    "        neighbors.append(distances[i][0])\n",
    "    return neighbors"
   ]
  },
  {
   "cell_type": "code",
   "execution_count": 7,
   "metadata": {},
   "outputs": [
    {
     "name": "stdout",
     "output_type": "stream",
     "text": [
      "Data point :  [6, 6]\n"
     ]
    },
    {
     "ename": "NameError",
     "evalue": "name 'sqrt' is not defined",
     "output_type": "error",
     "traceback": [
      "\u001b[1;31m---------------------------------------------------------------------------\u001b[0m",
      "\u001b[1;31mNameError\u001b[0m                                 Traceback (most recent call last)",
      "\u001b[1;32mc:\\Users\\soham\\Downloads\\LP3-master\\ML\\Assignment3\\KNN_From_Scratch_Sample_Dataset.ipynb Cell 5'\u001b[0m in \u001b[0;36m<cell line: 4>\u001b[1;34m()\u001b[0m\n\u001b[0;32m      <a href='vscode-notebook-cell:/c%3A/Users/soham/Downloads/LP3-master/ML/Assignment3/KNN_From_Scratch_Sample_Dataset.ipynb#ch0000004?line=3'>4</a>\u001b[0m \u001b[39mfor\u001b[39;00m item \u001b[39min\u001b[39;00m test_data:\n\u001b[0;32m      <a href='vscode-notebook-cell:/c%3A/Users/soham/Downloads/LP3-master/ML/Assignment3/KNN_From_Scratch_Sample_Dataset.ipynb#ch0000004?line=4'>5</a>\u001b[0m     \u001b[39mprint\u001b[39m(\u001b[39m\"\u001b[39m\u001b[39mData point : \u001b[39m\u001b[39m\"\u001b[39m, item)\n\u001b[1;32m----> <a href='vscode-notebook-cell:/c%3A/Users/soham/Downloads/LP3-master/ML/Assignment3/KNN_From_Scratch_Sample_Dataset.ipynb#ch0000004?line=5'>6</a>\u001b[0m     neighbors \u001b[39m=\u001b[39m get_neighbors(train_data, item, \u001b[39m3\u001b[39;49m)\n\u001b[0;32m      <a href='vscode-notebook-cell:/c%3A/Users/soham/Downloads/LP3-master/ML/Assignment3/KNN_From_Scratch_Sample_Dataset.ipynb#ch0000004?line=6'>7</a>\u001b[0m     \u001b[39mprint\u001b[39m(\u001b[39m\"\u001b[39m\u001b[39mNearest Neighbors : \u001b[39m\u001b[39m\"\u001b[39m, neighbors)\n\u001b[0;32m      <a href='vscode-notebook-cell:/c%3A/Users/soham/Downloads/LP3-master/ML/Assignment3/KNN_From_Scratch_Sample_Dataset.ipynb#ch0000004?line=7'>8</a>\u001b[0m     output_values \u001b[39m=\u001b[39m [row[\u001b[39m-\u001b[39m\u001b[39m1\u001b[39m] \u001b[39mfor\u001b[39;00m row \u001b[39min\u001b[39;00m neighbors]\n",
      "\u001b[1;32mc:\\Users\\soham\\Downloads\\LP3-master\\ML\\Assignment3\\KNN_From_Scratch_Sample_Dataset.ipynb Cell 4'\u001b[0m in \u001b[0;36mget_neighbors\u001b[1;34m(train, test_row, num_neighbors)\u001b[0m\n\u001b[0;32m      <a href='vscode-notebook-cell:/c%3A/Users/soham/Downloads/LP3-master/ML/Assignment3/KNN_From_Scratch_Sample_Dataset.ipynb#ch0000003?line=1'>2</a>\u001b[0m distances \u001b[39m=\u001b[39m \u001b[39mlist\u001b[39m()\n\u001b[0;32m      <a href='vscode-notebook-cell:/c%3A/Users/soham/Downloads/LP3-master/ML/Assignment3/KNN_From_Scratch_Sample_Dataset.ipynb#ch0000003?line=2'>3</a>\u001b[0m \u001b[39mfor\u001b[39;00m train_row \u001b[39min\u001b[39;00m train:\n\u001b[1;32m----> <a href='vscode-notebook-cell:/c%3A/Users/soham/Downloads/LP3-master/ML/Assignment3/KNN_From_Scratch_Sample_Dataset.ipynb#ch0000003?line=3'>4</a>\u001b[0m     dist \u001b[39m=\u001b[39m euclidean_distance(train_row, test_row)\n\u001b[0;32m      <a href='vscode-notebook-cell:/c%3A/Users/soham/Downloads/LP3-master/ML/Assignment3/KNN_From_Scratch_Sample_Dataset.ipynb#ch0000003?line=4'>5</a>\u001b[0m     distances\u001b[39m.\u001b[39mappend((train_row, dist))\n\u001b[0;32m      <a href='vscode-notebook-cell:/c%3A/Users/soham/Downloads/LP3-master/ML/Assignment3/KNN_From_Scratch_Sample_Dataset.ipynb#ch0000003?line=5'>6</a>\u001b[0m distances\u001b[39m.\u001b[39msort(key\u001b[39m=\u001b[39m\u001b[39mlambda\u001b[39;00m tup: tup[\u001b[39m1\u001b[39m])\n",
      "\u001b[1;32mc:\\Users\\soham\\Downloads\\LP3-master\\ML\\Assignment3\\KNN_From_Scratch_Sample_Dataset.ipynb Cell 3'\u001b[0m in \u001b[0;36meuclidean_distance\u001b[1;34m(row1, row2)\u001b[0m\n\u001b[0;32m      <a href='vscode-notebook-cell:/c%3A/Users/soham/Downloads/LP3-master/ML/Assignment3/KNN_From_Scratch_Sample_Dataset.ipynb#ch0000002?line=2'>3</a>\u001b[0m \u001b[39mfor\u001b[39;00m i \u001b[39min\u001b[39;00m \u001b[39mrange\u001b[39m(\u001b[39mlen\u001b[39m(row1)\u001b[39m-\u001b[39m\u001b[39m1\u001b[39m):\n\u001b[0;32m      <a href='vscode-notebook-cell:/c%3A/Users/soham/Downloads/LP3-master/ML/Assignment3/KNN_From_Scratch_Sample_Dataset.ipynb#ch0000002?line=3'>4</a>\u001b[0m     distance \u001b[39m+\u001b[39m\u001b[39m=\u001b[39m (row1[i] \u001b[39m-\u001b[39m row2[i])\u001b[39m*\u001b[39m\u001b[39m*\u001b[39m\u001b[39m2\u001b[39m\n\u001b[1;32m----> <a href='vscode-notebook-cell:/c%3A/Users/soham/Downloads/LP3-master/ML/Assignment3/KNN_From_Scratch_Sample_Dataset.ipynb#ch0000002?line=4'>5</a>\u001b[0m \u001b[39mreturn\u001b[39;00m sqrt(distance)\n",
      "\u001b[1;31mNameError\u001b[0m: name 'sqrt' is not defined"
     ]
    }
   ],
   "source": [
    "train_data = [[2, 4, \"Orange\"], [4, 4, \"Blue\"], [4, 6, \"Orange\"], [4, 2, \"Orange\"], [6, 2, \"Blue\"], [6, 4, \"Orange\"]]\n",
    "test_data = [[6, 6]]\n",
    "\n",
    "for item in test_data:\n",
    "    print(\"Data point : \", item)\n",
    "    neighbors = get_neighbors(train_data, item, 3)\n",
    "    print(\"Nearest Neighbors : \", neighbors)\n",
    "    output_values = [row[-1] for row in neighbors]\n",
    "    prediction = max(set(output_values), key=output_values.count)\n",
    "    print(\"Prediction : \", prediction, \"\\n\")"
   ]
  }
 ],
 "metadata": {
  "interpreter": {
   "hash": "6a2a270d196e0ece56a0a03d327e1fb94e1ac48b81f5d13409465075b0d686d3"
  },
  "kernelspec": {
   "display_name": "Python 3.10.4 64-bit (windows store)",
   "language": "python",
   "name": "python3"
  },
  "language_info": {
   "codemirror_mode": {
    "name": "ipython",
    "version": 3
   },
   "file_extension": ".py",
   "mimetype": "text/x-python",
   "name": "python",
   "nbconvert_exporter": "python",
   "pygments_lexer": "ipython3",
   "version": "3.10.4"
  }
 },
 "nbformat": 4,
 "nbformat_minor": 2
}
